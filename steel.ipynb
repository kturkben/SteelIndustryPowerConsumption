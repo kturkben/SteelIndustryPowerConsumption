{
 "cells": [
  {
   "cell_type": "code",
   "execution_count": 5,
   "metadata": {},
   "outputs": [],
   "source": [
    "import pandas as pd \n",
    "import matplotlib.pyplot as plt\n",
    "import seaborn as sns\n",
    "from sklearn.ensemble import RandomForestRegressor\n",
    "from sklearn.model_selection import train_test_split\n",
    "from sklearn.linear_model import LinearRegression,LogisticRegression\n",
    "from sklearn.metrics import r2_score, mean_absolute_error, mean_squared_error,mean_absolute_percentage_error\n",
    "from sklearn.model_selection import cross_val_score, RepeatedKFold\n",
    "from xgboost import XGBRegressor"
   ]
  },
  {
   "cell_type": "code",
   "execution_count": 6,
   "metadata": {},
   "outputs": [
    {
     "data": {
      "text/html": [
       "<div>\n",
       "<style scoped>\n",
       "    .dataframe tbody tr th:only-of-type {\n",
       "        vertical-align: middle;\n",
       "    }\n",
       "\n",
       "    .dataframe tbody tr th {\n",
       "        vertical-align: top;\n",
       "    }\n",
       "\n",
       "    .dataframe thead th {\n",
       "        text-align: right;\n",
       "    }\n",
       "</style>\n",
       "<table border=\"1\" class=\"dataframe\">\n",
       "  <thead>\n",
       "    <tr style=\"text-align: right;\">\n",
       "      <th></th>\n",
       "      <th>date</th>\n",
       "      <th>Usage_kWh</th>\n",
       "      <th>Lagging_Current_Reactive.Power_kVarh</th>\n",
       "      <th>Leading_Current_Reactive_Power_kVarh</th>\n",
       "      <th>CO2(tCO2)</th>\n",
       "      <th>Lagging_Current_Power_Factor</th>\n",
       "      <th>Leading_Current_Power_Factor</th>\n",
       "      <th>NSM</th>\n",
       "      <th>WeekStatus</th>\n",
       "      <th>Day_of_week</th>\n",
       "      <th>Load_Type</th>\n",
       "    </tr>\n",
       "  </thead>\n",
       "  <tbody>\n",
       "    <tr>\n",
       "      <th>0</th>\n",
       "      <td>01/01/2018 00:15</td>\n",
       "      <td>3.17</td>\n",
       "      <td>2.95</td>\n",
       "      <td>0.0</td>\n",
       "      <td>0.0</td>\n",
       "      <td>73.21</td>\n",
       "      <td>100.0</td>\n",
       "      <td>900</td>\n",
       "      <td>Weekday</td>\n",
       "      <td>Monday</td>\n",
       "      <td>Light_Load</td>\n",
       "    </tr>\n",
       "    <tr>\n",
       "      <th>1</th>\n",
       "      <td>01/01/2018 00:30</td>\n",
       "      <td>4.00</td>\n",
       "      <td>4.46</td>\n",
       "      <td>0.0</td>\n",
       "      <td>0.0</td>\n",
       "      <td>66.77</td>\n",
       "      <td>100.0</td>\n",
       "      <td>1800</td>\n",
       "      <td>Weekday</td>\n",
       "      <td>Monday</td>\n",
       "      <td>Light_Load</td>\n",
       "    </tr>\n",
       "    <tr>\n",
       "      <th>2</th>\n",
       "      <td>01/01/2018 00:45</td>\n",
       "      <td>3.24</td>\n",
       "      <td>3.28</td>\n",
       "      <td>0.0</td>\n",
       "      <td>0.0</td>\n",
       "      <td>70.28</td>\n",
       "      <td>100.0</td>\n",
       "      <td>2700</td>\n",
       "      <td>Weekday</td>\n",
       "      <td>Monday</td>\n",
       "      <td>Light_Load</td>\n",
       "    </tr>\n",
       "    <tr>\n",
       "      <th>3</th>\n",
       "      <td>01/01/2018 01:00</td>\n",
       "      <td>3.31</td>\n",
       "      <td>3.56</td>\n",
       "      <td>0.0</td>\n",
       "      <td>0.0</td>\n",
       "      <td>68.09</td>\n",
       "      <td>100.0</td>\n",
       "      <td>3600</td>\n",
       "      <td>Weekday</td>\n",
       "      <td>Monday</td>\n",
       "      <td>Light_Load</td>\n",
       "    </tr>\n",
       "    <tr>\n",
       "      <th>4</th>\n",
       "      <td>01/01/2018 01:15</td>\n",
       "      <td>3.82</td>\n",
       "      <td>4.50</td>\n",
       "      <td>0.0</td>\n",
       "      <td>0.0</td>\n",
       "      <td>64.72</td>\n",
       "      <td>100.0</td>\n",
       "      <td>4500</td>\n",
       "      <td>Weekday</td>\n",
       "      <td>Monday</td>\n",
       "      <td>Light_Load</td>\n",
       "    </tr>\n",
       "  </tbody>\n",
       "</table>\n",
       "</div>"
      ],
      "text/plain": [
       "               date  Usage_kWh  Lagging_Current_Reactive.Power_kVarh  \\\n",
       "0  01/01/2018 00:15       3.17                                  2.95   \n",
       "1  01/01/2018 00:30       4.00                                  4.46   \n",
       "2  01/01/2018 00:45       3.24                                  3.28   \n",
       "3  01/01/2018 01:00       3.31                                  3.56   \n",
       "4  01/01/2018 01:15       3.82                                  4.50   \n",
       "\n",
       "   Leading_Current_Reactive_Power_kVarh  CO2(tCO2)  \\\n",
       "0                                   0.0        0.0   \n",
       "1                                   0.0        0.0   \n",
       "2                                   0.0        0.0   \n",
       "3                                   0.0        0.0   \n",
       "4                                   0.0        0.0   \n",
       "\n",
       "   Lagging_Current_Power_Factor  Leading_Current_Power_Factor   NSM  \\\n",
       "0                         73.21                         100.0   900   \n",
       "1                         66.77                         100.0  1800   \n",
       "2                         70.28                         100.0  2700   \n",
       "3                         68.09                         100.0  3600   \n",
       "4                         64.72                         100.0  4500   \n",
       "\n",
       "  WeekStatus Day_of_week   Load_Type  \n",
       "0    Weekday      Monday  Light_Load  \n",
       "1    Weekday      Monday  Light_Load  \n",
       "2    Weekday      Monday  Light_Load  \n",
       "3    Weekday      Monday  Light_Load  \n",
       "4    Weekday      Monday  Light_Load  "
      ]
     },
     "execution_count": 6,
     "metadata": {},
     "output_type": "execute_result"
    }
   ],
   "source": [
    "df=pd.read_csv('Steel_industry_data.csv')\n",
    "df.head()"
   ]
  },
  {
   "cell_type": "code",
   "execution_count": 7,
   "metadata": {},
   "outputs": [
    {
     "data": {
      "text/html": [
       "<div>\n",
       "<style scoped>\n",
       "    .dataframe tbody tr th:only-of-type {\n",
       "        vertical-align: middle;\n",
       "    }\n",
       "\n",
       "    .dataframe tbody tr th {\n",
       "        vertical-align: top;\n",
       "    }\n",
       "\n",
       "    .dataframe thead th {\n",
       "        text-align: right;\n",
       "    }\n",
       "</style>\n",
       "<table border=\"1\" class=\"dataframe\">\n",
       "  <thead>\n",
       "    <tr style=\"text-align: right;\">\n",
       "      <th></th>\n",
       "      <th>Usage_kWh</th>\n",
       "      <th>Lagging_Current_Reactive.Power_kVarh</th>\n",
       "      <th>Leading_Current_Reactive_Power_kVarh</th>\n",
       "      <th>CO2(tCO2)</th>\n",
       "      <th>Lagging_Current_Power_Factor</th>\n",
       "      <th>Leading_Current_Power_Factor</th>\n",
       "      <th>NSM</th>\n",
       "    </tr>\n",
       "  </thead>\n",
       "  <tbody>\n",
       "    <tr>\n",
       "      <th>count</th>\n",
       "      <td>35040.000000</td>\n",
       "      <td>35040.000000</td>\n",
       "      <td>35040.000000</td>\n",
       "      <td>35040.000000</td>\n",
       "      <td>35040.000000</td>\n",
       "      <td>35040.000000</td>\n",
       "      <td>35040.000000</td>\n",
       "    </tr>\n",
       "    <tr>\n",
       "      <th>mean</th>\n",
       "      <td>27.386892</td>\n",
       "      <td>13.035384</td>\n",
       "      <td>3.870949</td>\n",
       "      <td>0.011524</td>\n",
       "      <td>80.578056</td>\n",
       "      <td>84.367870</td>\n",
       "      <td>42750.000000</td>\n",
       "    </tr>\n",
       "    <tr>\n",
       "      <th>std</th>\n",
       "      <td>33.444380</td>\n",
       "      <td>16.306000</td>\n",
       "      <td>7.424463</td>\n",
       "      <td>0.016151</td>\n",
       "      <td>18.921322</td>\n",
       "      <td>30.456535</td>\n",
       "      <td>24940.534317</td>\n",
       "    </tr>\n",
       "    <tr>\n",
       "      <th>min</th>\n",
       "      <td>0.000000</td>\n",
       "      <td>0.000000</td>\n",
       "      <td>0.000000</td>\n",
       "      <td>0.000000</td>\n",
       "      <td>0.000000</td>\n",
       "      <td>0.000000</td>\n",
       "      <td>0.000000</td>\n",
       "    </tr>\n",
       "    <tr>\n",
       "      <th>25%</th>\n",
       "      <td>3.200000</td>\n",
       "      <td>2.300000</td>\n",
       "      <td>0.000000</td>\n",
       "      <td>0.000000</td>\n",
       "      <td>63.320000</td>\n",
       "      <td>99.700000</td>\n",
       "      <td>21375.000000</td>\n",
       "    </tr>\n",
       "    <tr>\n",
       "      <th>50%</th>\n",
       "      <td>4.570000</td>\n",
       "      <td>5.000000</td>\n",
       "      <td>0.000000</td>\n",
       "      <td>0.000000</td>\n",
       "      <td>87.960000</td>\n",
       "      <td>100.000000</td>\n",
       "      <td>42750.000000</td>\n",
       "    </tr>\n",
       "    <tr>\n",
       "      <th>75%</th>\n",
       "      <td>51.237500</td>\n",
       "      <td>22.640000</td>\n",
       "      <td>2.090000</td>\n",
       "      <td>0.020000</td>\n",
       "      <td>99.022500</td>\n",
       "      <td>100.000000</td>\n",
       "      <td>64125.000000</td>\n",
       "    </tr>\n",
       "    <tr>\n",
       "      <th>max</th>\n",
       "      <td>157.180000</td>\n",
       "      <td>96.910000</td>\n",
       "      <td>27.760000</td>\n",
       "      <td>0.070000</td>\n",
       "      <td>100.000000</td>\n",
       "      <td>100.000000</td>\n",
       "      <td>85500.000000</td>\n",
       "    </tr>\n",
       "  </tbody>\n",
       "</table>\n",
       "</div>"
      ],
      "text/plain": [
       "          Usage_kWh  Lagging_Current_Reactive.Power_kVarh  \\\n",
       "count  35040.000000                          35040.000000   \n",
       "mean      27.386892                             13.035384   \n",
       "std       33.444380                             16.306000   \n",
       "min        0.000000                              0.000000   \n",
       "25%        3.200000                              2.300000   \n",
       "50%        4.570000                              5.000000   \n",
       "75%       51.237500                             22.640000   \n",
       "max      157.180000                             96.910000   \n",
       "\n",
       "       Leading_Current_Reactive_Power_kVarh     CO2(tCO2)  \\\n",
       "count                          35040.000000  35040.000000   \n",
       "mean                               3.870949      0.011524   \n",
       "std                                7.424463      0.016151   \n",
       "min                                0.000000      0.000000   \n",
       "25%                                0.000000      0.000000   \n",
       "50%                                0.000000      0.000000   \n",
       "75%                                2.090000      0.020000   \n",
       "max                               27.760000      0.070000   \n",
       "\n",
       "       Lagging_Current_Power_Factor  Leading_Current_Power_Factor  \\\n",
       "count                  35040.000000                  35040.000000   \n",
       "mean                      80.578056                     84.367870   \n",
       "std                       18.921322                     30.456535   \n",
       "min                        0.000000                      0.000000   \n",
       "25%                       63.320000                     99.700000   \n",
       "50%                       87.960000                    100.000000   \n",
       "75%                       99.022500                    100.000000   \n",
       "max                      100.000000                    100.000000   \n",
       "\n",
       "                NSM  \n",
       "count  35040.000000  \n",
       "mean   42750.000000  \n",
       "std    24940.534317  \n",
       "min        0.000000  \n",
       "25%    21375.000000  \n",
       "50%    42750.000000  \n",
       "75%    64125.000000  \n",
       "max    85500.000000  "
      ]
     },
     "execution_count": 7,
     "metadata": {},
     "output_type": "execute_result"
    }
   ],
   "source": [
    "df.describe()"
   ]
  },
  {
   "cell_type": "code",
   "execution_count": null,
   "metadata": {},
   "outputs": [],
   "source": [
    "df.info()"
   ]
  },
  {
   "cell_type": "code",
   "execution_count": 9,
   "metadata": {},
   "outputs": [
    {
     "data": {
      "text/plain": [
       "date                                    0\n",
       "Usage_kWh                               0\n",
       "Lagging_Current_Reactive.Power_kVarh    0\n",
       "Leading_Current_Reactive_Power_kVarh    0\n",
       "CO2(tCO2)                               0\n",
       "Lagging_Current_Power_Factor            0\n",
       "Leading_Current_Power_Factor            0\n",
       "NSM                                     0\n",
       "WeekStatus                              0\n",
       "Day_of_week                             0\n",
       "Load_Type                               0\n",
       "dtype: int64"
      ]
     },
     "execution_count": 9,
     "metadata": {},
     "output_type": "execute_result"
    }
   ],
   "source": [
    "df.isna().sum()"
   ]
  },
  {
   "cell_type": "code",
   "execution_count": 10,
   "metadata": {},
   "outputs": [],
   "source": [
    "df['Year']=pd.to_datetime(df['date'],format=\"%d/%m/%Y %H:%M\").dt.year\n",
    "df['Month']=pd.to_datetime(df['date'],format=\"%d/%m/%Y %H:%M\").dt.month"
   ]
  },
  {
   "cell_type": "code",
   "execution_count": 11,
   "metadata": {},
   "outputs": [
    {
     "data": {
      "text/html": [
       "<div>\n",
       "<style scoped>\n",
       "    .dataframe tbody tr th:only-of-type {\n",
       "        vertical-align: middle;\n",
       "    }\n",
       "\n",
       "    .dataframe tbody tr th {\n",
       "        vertical-align: top;\n",
       "    }\n",
       "\n",
       "    .dataframe thead th {\n",
       "        text-align: right;\n",
       "    }\n",
       "</style>\n",
       "<table border=\"1\" class=\"dataframe\">\n",
       "  <thead>\n",
       "    <tr style=\"text-align: right;\">\n",
       "      <th></th>\n",
       "      <th>date</th>\n",
       "      <th>Usage_kWh</th>\n",
       "      <th>Lagging_Current_Reactive.Power_kVarh</th>\n",
       "      <th>Leading_Current_Reactive_Power_kVarh</th>\n",
       "      <th>CO2(tCO2)</th>\n",
       "      <th>Lagging_Current_Power_Factor</th>\n",
       "      <th>Leading_Current_Power_Factor</th>\n",
       "      <th>NSM</th>\n",
       "      <th>WeekStatus</th>\n",
       "      <th>Day_of_week</th>\n",
       "      <th>Load_Type</th>\n",
       "      <th>Year</th>\n",
       "      <th>Month</th>\n",
       "    </tr>\n",
       "  </thead>\n",
       "  <tbody>\n",
       "    <tr>\n",
       "      <th>35035</th>\n",
       "      <td>31/12/2018 23:00</td>\n",
       "      <td>3.85</td>\n",
       "      <td>4.86</td>\n",
       "      <td>0.00</td>\n",
       "      <td>0.0</td>\n",
       "      <td>62.10</td>\n",
       "      <td>100.00</td>\n",
       "      <td>82800</td>\n",
       "      <td>Weekday</td>\n",
       "      <td>Monday</td>\n",
       "      <td>Light_Load</td>\n",
       "      <td>2018</td>\n",
       "      <td>12</td>\n",
       "    </tr>\n",
       "    <tr>\n",
       "      <th>35036</th>\n",
       "      <td>31/12/2018 23:15</td>\n",
       "      <td>3.74</td>\n",
       "      <td>3.74</td>\n",
       "      <td>0.00</td>\n",
       "      <td>0.0</td>\n",
       "      <td>70.71</td>\n",
       "      <td>100.00</td>\n",
       "      <td>83700</td>\n",
       "      <td>Weekday</td>\n",
       "      <td>Monday</td>\n",
       "      <td>Light_Load</td>\n",
       "      <td>2018</td>\n",
       "      <td>12</td>\n",
       "    </tr>\n",
       "    <tr>\n",
       "      <th>35037</th>\n",
       "      <td>31/12/2018 23:30</td>\n",
       "      <td>3.78</td>\n",
       "      <td>3.17</td>\n",
       "      <td>0.07</td>\n",
       "      <td>0.0</td>\n",
       "      <td>76.62</td>\n",
       "      <td>99.98</td>\n",
       "      <td>84600</td>\n",
       "      <td>Weekday</td>\n",
       "      <td>Monday</td>\n",
       "      <td>Light_Load</td>\n",
       "      <td>2018</td>\n",
       "      <td>12</td>\n",
       "    </tr>\n",
       "    <tr>\n",
       "      <th>35038</th>\n",
       "      <td>31/12/2018 23:45</td>\n",
       "      <td>3.78</td>\n",
       "      <td>3.06</td>\n",
       "      <td>0.11</td>\n",
       "      <td>0.0</td>\n",
       "      <td>77.72</td>\n",
       "      <td>99.96</td>\n",
       "      <td>85500</td>\n",
       "      <td>Weekday</td>\n",
       "      <td>Monday</td>\n",
       "      <td>Light_Load</td>\n",
       "      <td>2018</td>\n",
       "      <td>12</td>\n",
       "    </tr>\n",
       "    <tr>\n",
       "      <th>35039</th>\n",
       "      <td>31/12/2018 00:00</td>\n",
       "      <td>3.67</td>\n",
       "      <td>3.02</td>\n",
       "      <td>0.07</td>\n",
       "      <td>0.0</td>\n",
       "      <td>77.22</td>\n",
       "      <td>99.98</td>\n",
       "      <td>0</td>\n",
       "      <td>Weekday</td>\n",
       "      <td>Monday</td>\n",
       "      <td>Light_Load</td>\n",
       "      <td>2018</td>\n",
       "      <td>12</td>\n",
       "    </tr>\n",
       "  </tbody>\n",
       "</table>\n",
       "</div>"
      ],
      "text/plain": [
       "                   date  Usage_kWh  Lagging_Current_Reactive.Power_kVarh  \\\n",
       "35035  31/12/2018 23:00       3.85                                  4.86   \n",
       "35036  31/12/2018 23:15       3.74                                  3.74   \n",
       "35037  31/12/2018 23:30       3.78                                  3.17   \n",
       "35038  31/12/2018 23:45       3.78                                  3.06   \n",
       "35039  31/12/2018 00:00       3.67                                  3.02   \n",
       "\n",
       "       Leading_Current_Reactive_Power_kVarh  CO2(tCO2)  \\\n",
       "35035                                  0.00        0.0   \n",
       "35036                                  0.00        0.0   \n",
       "35037                                  0.07        0.0   \n",
       "35038                                  0.11        0.0   \n",
       "35039                                  0.07        0.0   \n",
       "\n",
       "       Lagging_Current_Power_Factor  Leading_Current_Power_Factor    NSM  \\\n",
       "35035                         62.10                        100.00  82800   \n",
       "35036                         70.71                        100.00  83700   \n",
       "35037                         76.62                         99.98  84600   \n",
       "35038                         77.72                         99.96  85500   \n",
       "35039                         77.22                         99.98      0   \n",
       "\n",
       "      WeekStatus Day_of_week   Load_Type  Year  Month  \n",
       "35035    Weekday      Monday  Light_Load  2018     12  \n",
       "35036    Weekday      Monday  Light_Load  2018     12  \n",
       "35037    Weekday      Monday  Light_Load  2018     12  \n",
       "35038    Weekday      Monday  Light_Load  2018     12  \n",
       "35039    Weekday      Monday  Light_Load  2018     12  "
      ]
     },
     "execution_count": 11,
     "metadata": {},
     "output_type": "execute_result"
    }
   ],
   "source": [
    "df.tail()"
   ]
  },
  {
   "cell_type": "code",
   "execution_count": 12,
   "metadata": {},
   "outputs": [],
   "source": [
    "#sns.pairplot(df)"
   ]
  },
  {
   "cell_type": "code",
   "execution_count": 13,
   "metadata": {},
   "outputs": [],
   "source": [
    "df['WeekStatus'].replace(to_replace=\"Weekday\",value=0,inplace=True)\n",
    "df['WeekStatus'].replace(to_replace=\"Weekend\",value=1,inplace=True)\n",
    "df['Day_of_week'].replace(to_replace=\"Monday\",value=0,inplace=True)\n",
    "df['Day_of_week'].replace(to_replace=\"Tuesday\",value=1,inplace=True)\n",
    "df['Day_of_week'].replace(to_replace=\"Wednesday\",value=2,inplace=True)\n",
    "df['Day_of_week'].replace(to_replace=\"Thursday\",value=3,inplace=True)\n",
    "df['Day_of_week'].replace(to_replace=\"Friday\",value=4,inplace=True)\n",
    "df['Day_of_week'].replace(to_replace=\"Saturday\",value=5,inplace=True)\n",
    "df['Day_of_week'].replace(to_replace=\"Sunday\",value=6,inplace=True)\n",
    "df['Load_Type'].replace(to_replace=\"Light_Load\",value=0,inplace=True)\n",
    "df['Load_Type'].replace(to_replace=\"Medium_Load\",value=1,inplace=True)\n",
    "df['Load_Type'].replace(to_replace=\"Maximum_Load\",value=2,inplace=True)"
   ]
  },
  {
   "cell_type": "code",
   "execution_count": 14,
   "metadata": {},
   "outputs": [
    {
     "data": {
      "text/plain": [
       "Index(['date', 'Usage_kWh', 'Lagging_Current_Reactive.Power_kVarh',\n",
       "       'Leading_Current_Reactive_Power_kVarh', 'CO2(tCO2)',\n",
       "       'Lagging_Current_Power_Factor', 'Leading_Current_Power_Factor', 'NSM',\n",
       "       'WeekStatus', 'Day_of_week', 'Load_Type', 'Year', 'Month'],\n",
       "      dtype='object')"
      ]
     },
     "execution_count": 14,
     "metadata": {},
     "output_type": "execute_result"
    }
   ],
   "source": [
    "df.columns"
   ]
  },
  {
   "cell_type": "code",
   "execution_count": 15,
   "metadata": {},
   "outputs": [
    {
     "data": {
      "image/png": "[encoded data removed]",
      "text/plain": [
       "<Figure size 432x288 with 1 Axes>"
      ]
     },
     "metadata": {
      "needs_background": "light"
     },
     "output_type": "display_data"
    }
   ],
   "source": [
    "#sns.barplot(df.head()['date'],df['Usage_kWh'],color='g')\n",
    "plt.bar(df.head(10)['date'],df.head(10)['Usage_kWh'])\n",
    "  \n",
    "plt.xlabel(\"Date\")\n",
    "plt.xticks(rotation=45)\n",
    "plt.ylabel(\"Usage\")\n",
    "plt.show()"
   ]
  },
  {
   "cell_type": "code",
   "execution_count": 16,
   "metadata": {},
   "outputs": [
    {
     "name": "stderr",
     "output_type": "stream",
     "text": [
      "c:\\Users\\HP\\AppData\\Local\\Programs\\Python\\Python310\\lib\\site-packages\\seaborn\\_decorators.py:36: FutureWarning: Pass the following variables as keyword args: x, y. From version 0.12, the only valid positional argument will be `data`, and passing other arguments without an explicit keyword will result in an error or misinterpretation.\n",
      "  warnings.warn(\n"
     ]
    },
    {
     "data": {
      "text/plain": [
       "<AxesSubplot:xlabel='Month', ylabel='Usage_kWh'>"
      ]
     },
     "execution_count": 16,
     "metadata": {},
     "output_type": "execute_result"
    },
    {
     "data": {
      "image/png": "[encoded data removed]",
      "text/plain": [
       "<Figure size 432x288 with 1 Axes>"
      ]
     },
     "metadata": {
      "needs_background": "light"
     },
     "output_type": "display_data"
    }
   ],
   "source": [
    "sns.barplot(df['Month'],df['Usage_kWh'],color='g')"
   ]
  },
  {
   "cell_type": "code",
   "execution_count": 17,
   "metadata": {},
   "outputs": [
    {
     "data": {
      "text/plain": [
       "Index(['Usage_kWh', 'Lagging_Current_Reactive.Power_kVarh',\n",
       "       'Leading_Current_Reactive_Power_kVarh', 'CO2(tCO2)',\n",
       "       'Lagging_Current_Power_Factor', 'Leading_Current_Power_Factor', 'NSM',\n",
       "       'WeekStatus', 'Day_of_week', 'Load_Type', 'Year', 'Month'],\n",
       "      dtype='object')"
      ]
     },
     "execution_count": 17,
     "metadata": {},
     "output_type": "execute_result"
    }
   ],
   "source": [
    "df['date']=df.index\n",
    "df.drop(['date'],axis=1,inplace=True)\n",
    "df.columns"
   ]
  },
  {
   "cell_type": "code",
   "execution_count": 18,
   "metadata": {},
   "outputs": [
    {
     "data": {
      "image/png": "[encoded data removed]",
      "text/plain": [
       "<Figure size 648x432 with 2 Axes>"
      ]
     },
     "metadata": {
      "needs_background": "light"
     },
     "output_type": "display_data"
    }
   ],
   "source": [
    "corr=df.corr()\n",
    "plt.figure(figsize = (9,6))\n",
    "sns.heatmap(df.corr(), annot = True, cmap = 'YlGnBu')\n",
    "plt.title(\"Steel Correlation\", color = 'b')\n",
    "plt.show()"
   ]
  },
  {
   "cell_type": "code",
   "execution_count": null,
   "metadata": {},
   "outputs": [],
   "source": [
    "df.drop(['Year'],axis=1,inplace=True)\n",
    "for col in df:\n",
    "    maxV=abs(corr[col]).nlargest(n=5)\n",
    "    print(maxV)\n",
    "    for index,value in maxV.items():\n",
    "        if 1>value>=0.8:\n",
    "            print(index,' ile ',col,'değişkenleri yüksek korelasyona sahip',value)"
   ]
  },
  {
   "cell_type": "code",
   "execution_count": 20,
   "metadata": {},
   "outputs": [
    {
     "name": "stdout",
     "output_type": "stream",
     "text": [
      "(28032, 9)\n",
      "(7008, 9)\n",
      "(28032,)\n",
      "(7008,)\n"
     ]
    }
   ],
   "source": [
    "X = df.drop(['Usage_kWh','CO2(tCO2)'],axis=1)\n",
    "y = df['Usage_kWh']\n",
    "X_train, X_test, y_train, y_test = train_test_split(X, y, test_size = 0.2,random_state=42)\n",
    "print(X_train.shape)\n",
    "print(X_test.shape)\n",
    "print(y_train.shape)\n",
    "print(y_test.shape)"
   ]
  },
  {
   "cell_type": "code",
   "execution_count": 249,
   "metadata": {},
   "outputs": [
    {
     "data": {
      "text/html": [
       "<div>\n",
       "<style scoped>\n",
       "    .dataframe tbody tr th:only-of-type {\n",
       "        vertical-align: middle;\n",
       "    }\n",
       "\n",
       "    .dataframe tbody tr th {\n",
       "        vertical-align: top;\n",
       "    }\n",
       "\n",
       "    .dataframe thead th {\n",
       "        text-align: right;\n",
       "    }\n",
       "</style>\n",
       "<table border=\"1\" class=\"dataframe\">\n",
       "  <thead>\n",
       "    <tr style=\"text-align: right;\">\n",
       "      <th></th>\n",
       "      <th>Lagging_Current_Reactive.Power_kVarh</th>\n",
       "      <th>Leading_Current_Reactive_Power_kVarh</th>\n",
       "      <th>Lagging_Current_Power_Factor</th>\n",
       "      <th>Leading_Current_Power_Factor</th>\n",
       "      <th>NSM</th>\n",
       "      <th>WeekStatus</th>\n",
       "      <th>Day_of_week</th>\n",
       "      <th>Load_Type</th>\n",
       "      <th>Month</th>\n",
       "    </tr>\n",
       "  </thead>\n",
       "  <tbody>\n",
       "    <tr>\n",
       "      <th>11356</th>\n",
       "      <td>3.82</td>\n",
       "      <td>0.0</td>\n",
       "      <td>60.20</td>\n",
       "      <td>100.00</td>\n",
       "      <td>26100</td>\n",
       "      <td>1</td>\n",
       "      <td>6</td>\n",
       "      <td>0</td>\n",
       "      <td>4</td>\n",
       "    </tr>\n",
       "    <tr>\n",
       "      <th>26543</th>\n",
       "      <td>48.02</td>\n",
       "      <td>0.0</td>\n",
       "      <td>78.46</td>\n",
       "      <td>100.00</td>\n",
       "      <td>43200</td>\n",
       "      <td>0</td>\n",
       "      <td>3</td>\n",
       "      <td>2</td>\n",
       "      <td>10</td>\n",
       "    </tr>\n",
       "    <tr>\n",
       "      <th>2445</th>\n",
       "      <td>59.65</td>\n",
       "      <td>0.0</td>\n",
       "      <td>89.61</td>\n",
       "      <td>100.00</td>\n",
       "      <td>41400</td>\n",
       "      <td>0</td>\n",
       "      <td>4</td>\n",
       "      <td>2</td>\n",
       "      <td>1</td>\n",
       "    </tr>\n",
       "    <tr>\n",
       "      <th>14649</th>\n",
       "      <td>0.00</td>\n",
       "      <td>16.6</td>\n",
       "      <td>100.00</td>\n",
       "      <td>18.53</td>\n",
       "      <td>52200</td>\n",
       "      <td>1</td>\n",
       "      <td>5</td>\n",
       "      <td>0</td>\n",
       "      <td>6</td>\n",
       "    </tr>\n",
       "    <tr>\n",
       "      <th>32699</th>\n",
       "      <td>20.99</td>\n",
       "      <td>0.0</td>\n",
       "      <td>94.19</td>\n",
       "      <td>100.00</td>\n",
       "      <td>54000</td>\n",
       "      <td>0</td>\n",
       "      <td>4</td>\n",
       "      <td>1</td>\n",
       "      <td>12</td>\n",
       "    </tr>\n",
       "  </tbody>\n",
       "</table>\n",
       "</div>"
      ],
      "text/plain": [
       "       Lagging_Current_Reactive.Power_kVarh  \\\n",
       "11356                                  3.82   \n",
       "26543                                 48.02   \n",
       "2445                                  59.65   \n",
       "14649                                  0.00   \n",
       "32699                                 20.99   \n",
       "\n",
       "       Leading_Current_Reactive_Power_kVarh  Lagging_Current_Power_Factor  \\\n",
       "11356                                   0.0                         60.20   \n",
       "26543                                   0.0                         78.46   \n",
       "2445                                    0.0                         89.61   \n",
       "14649                                  16.6                        100.00   \n",
       "32699                                   0.0                         94.19   \n",
       "\n",
       "       Leading_Current_Power_Factor    NSM  WeekStatus  Day_of_week  \\\n",
       "11356                        100.00  26100           1            6   \n",
       "26543                        100.00  43200           0            3   \n",
       "2445                         100.00  41400           0            4   \n",
       "14649                         18.53  52200           1            5   \n",
       "32699                        100.00  54000           0            4   \n",
       "\n",
       "       Load_Type  Month  \n",
       "11356          0      4  \n",
       "26543          2     10  \n",
       "2445           2      1  \n",
       "14649          0      6  \n",
       "32699          1     12  "
      ]
     },
     "execution_count": 249,
     "metadata": {},
     "output_type": "execute_result"
    }
   ],
   "source": [
    "X_test.head()"
   ]
  },
  {
   "cell_type": "code",
   "execution_count": 250,
   "metadata": {},
   "outputs": [
    {
     "data": {
      "text/plain": [
       "11356      2.88\n",
       "26543     60.77\n",
       "2445     120.42\n",
       "14649      3.13\n",
       "32699     58.86\n",
       "Name: Usage_kWh, dtype: float64"
      ]
     },
     "execution_count": 250,
     "metadata": {},
     "output_type": "execute_result"
    }
   ],
   "source": [
    "y_test.head()"
   ]
  },
  {
   "cell_type": "code",
   "execution_count": 251,
   "metadata": {},
   "outputs": [],
   "source": [
    "#sns.lineplot(x='Leading_Current_Reactive_Power_kVarh',y='Usage_kWh',data=df)"
   ]
  },
  {
   "cell_type": "code",
   "execution_count": 37,
   "metadata": {},
   "outputs": [
    {
     "name": "stdout",
     "output_type": "stream",
     "text": [
      "Iteration 1, loss = 693.72146333\n",
      "Iteration 2, loss = 50.09436649\n",
      "Iteration 3, loss = 18.97162609\n",
      "Iteration 4, loss = 11.27282780\n",
      "Iteration 5, loss = 8.62265723\n",
      "Iteration 6, loss = 7.27936819\n",
      "Iteration 7, loss = 6.35232127\n",
      "Iteration 8, loss = 5.68101823\n",
      "Iteration 9, loss = 5.11527239\n",
      "Iteration 10, loss = 4.54489989\n",
      "Iteration 11, loss = 4.06244432\n",
      "Iteration 12, loss = 3.66932884\n",
      "Iteration 13, loss = 3.29195627\n",
      "Iteration 14, loss = 3.02996164\n",
      "Iteration 15, loss = 2.79613681\n",
      "Iteration 16, loss = 2.65232046\n",
      "Iteration 17, loss = 2.50104022\n",
      "Iteration 18, loss = 2.30712044\n",
      "Iteration 19, loss = 2.19565018\n",
      "Iteration 20, loss = 2.09165662\n",
      "Iteration 21, loss = 2.08964077\n",
      "Iteration 22, loss = 1.92834839\n",
      "Iteration 23, loss = 1.83337591\n",
      "Iteration 24, loss = 1.76785532\n",
      "Iteration 25, loss = 1.73224794\n",
      "Iteration 26, loss = 1.65843400\n",
      "Iteration 27, loss = 1.60192387\n",
      "Iteration 28, loss = 1.52003031\n",
      "Iteration 29, loss = 1.47273129\n",
      "Iteration 30, loss = 1.45282704\n",
      "Iteration 31, loss = 1.39988343\n",
      "Iteration 32, loss = 1.34256086\n",
      "Iteration 33, loss = 1.32386724\n",
      "Iteration 34, loss = 1.30596280\n",
      "Iteration 35, loss = 1.27426104\n",
      "Iteration 36, loss = 1.21323292\n",
      "Iteration 37, loss = 1.20270898\n",
      "Iteration 38, loss = 1.19474914\n",
      "Iteration 39, loss = 1.16311353\n",
      "Iteration 40, loss = 1.17032258\n",
      "Iteration 41, loss = 1.12283684\n",
      "Iteration 42, loss = 1.13990687\n",
      "Iteration 43, loss = 1.07744612\n",
      "Iteration 44, loss = 1.08712505\n",
      "Iteration 45, loss = 1.05211731\n",
      "Iteration 46, loss = 1.02165931\n",
      "Iteration 47, loss = 1.01385222\n",
      "Iteration 48, loss = 0.99667666\n",
      "Iteration 49, loss = 0.99247318\n",
      "Iteration 50, loss = 0.96649695\n",
      "Iteration 51, loss = 0.97431574\n",
      "Iteration 52, loss = 0.89968796\n",
      "Iteration 53, loss = 0.90559591\n",
      "Iteration 54, loss = 0.89391736\n",
      "Iteration 55, loss = 0.89416271\n",
      "Iteration 56, loss = 0.83784612\n",
      "Iteration 57, loss = 0.84927585\n",
      "Iteration 58, loss = 0.83319868\n",
      "Iteration 59, loss = 0.83019779\n",
      "Iteration 60, loss = 0.78469605\n",
      "Iteration 61, loss = 0.79415563\n",
      "Iteration 62, loss = 0.76145864\n",
      "Iteration 63, loss = 0.74021292\n",
      "Iteration 64, loss = 0.74876004\n",
      "Iteration 65, loss = 0.75231469\n",
      "Iteration 66, loss = 0.71492557\n",
      "Iteration 67, loss = 0.70972837\n",
      "Iteration 68, loss = 0.75087801\n",
      "Iteration 69, loss = 0.68526167\n",
      "Iteration 70, loss = 0.67063539\n",
      "Iteration 71, loss = 0.66098709\n",
      "Iteration 72, loss = 0.67368985\n",
      "Iteration 73, loss = 0.66884789\n",
      "Iteration 74, loss = 0.65452626\n",
      "Iteration 75, loss = 0.65369575\n",
      "Iteration 76, loss = 0.63098677\n",
      "Iteration 77, loss = 0.61764248\n",
      "Iteration 78, loss = 0.63487927\n",
      "Iteration 79, loss = 0.60915386\n",
      "Iteration 80, loss = 0.58671802\n",
      "Iteration 81, loss = 0.58444581\n",
      "Iteration 82, loss = 0.58921512\n",
      "Iteration 83, loss = 0.58717978\n",
      "Iteration 84, loss = 0.59900236\n",
      "Iteration 85, loss = 0.56931634\n",
      "Iteration 86, loss = 0.58115410\n",
      "Iteration 87, loss = 0.55318029\n",
      "Iteration 88, loss = 0.56684831\n",
      "Iteration 89, loss = 0.55260715\n",
      "Iteration 90, loss = 0.56107999\n",
      "Iteration 91, loss = 0.58361572\n",
      "Iteration 92, loss = 0.56322600\n",
      "Iteration 93, loss = 0.54509408\n",
      "Iteration 94, loss = 0.54645480\n",
      "Iteration 95, loss = 0.52909601\n",
      "Iteration 96, loss = 0.54734413\n",
      "Iteration 97, loss = 0.50940119\n",
      "Iteration 98, loss = 0.52332958\n",
      "Iteration 99, loss = 0.52003812\n",
      "Iteration 100, loss = 0.48874256\n",
      "Iteration 101, loss = 0.54100517\n",
      "Iteration 102, loss = 0.52495092\n",
      "Iteration 103, loss = 0.49726345\n",
      "Iteration 104, loss = 0.49633302\n",
      "Iteration 105, loss = 0.48826863\n",
      "Iteration 106, loss = 0.51590517\n",
      "Iteration 107, loss = 0.49321996\n",
      "Iteration 108, loss = 0.47394322\n",
      "Iteration 109, loss = 0.47467090\n",
      "Iteration 110, loss = 0.46694776\n",
      "Iteration 111, loss = 0.48305597\n",
      "Iteration 112, loss = 0.46490013\n",
      "Iteration 113, loss = 0.47346499\n",
      "Iteration 114, loss = 0.48381743\n",
      "Iteration 115, loss = 0.47312490\n",
      "Iteration 116, loss = 0.46335661\n",
      "Iteration 117, loss = 0.44401475\n",
      "Iteration 118, loss = 0.44802327\n",
      "Iteration 119, loss = 0.44162176\n",
      "Iteration 120, loss = 0.44257327\n",
      "Iteration 121, loss = 0.48318542\n",
      "Iteration 122, loss = 0.45001196\n",
      "Iteration 123, loss = 0.44896739\n",
      "Iteration 124, loss = 0.42017686\n",
      "Iteration 125, loss = 0.44120389\n",
      "Iteration 126, loss = 0.45133971\n",
      "Iteration 127, loss = 0.44466909\n",
      "Iteration 128, loss = 0.44110249\n",
      "Iteration 129, loss = 0.42775340\n",
      "Iteration 130, loss = 0.42550977\n",
      "Iteration 131, loss = 0.39715168\n",
      "Iteration 132, loss = 0.41646751\n",
      "Iteration 133, loss = 0.41316231\n",
      "Iteration 134, loss = 0.41498979\n",
      "Iteration 135, loss = 0.41251838\n",
      "Iteration 136, loss = 0.40532376\n",
      "Iteration 137, loss = 0.40060226\n",
      "Iteration 138, loss = 0.40512881\n",
      "Iteration 139, loss = 0.43045713\n",
      "Iteration 140, loss = 0.38618727\n",
      "Iteration 141, loss = 0.41349339\n",
      "Iteration 142, loss = 0.39279954\n",
      "Iteration 143, loss = 0.38195512\n",
      "Iteration 144, loss = 0.41405319\n",
      "Iteration 145, loss = 0.37887397\n",
      "Iteration 146, loss = 0.43597933\n",
      "Iteration 147, loss = 0.39476679\n",
      "Iteration 148, loss = 0.38320890\n",
      "Iteration 149, loss = 0.38848360\n",
      "Iteration 150, loss = 0.37934933\n",
      "Iteration 151, loss = 0.38097672\n",
      "Iteration 152, loss = 0.40544572\n",
      "Iteration 153, loss = 0.37930376\n",
      "Iteration 154, loss = 0.39696960\n",
      "Iteration 155, loss = 0.39169792\n",
      "Iteration 156, loss = 0.36686683\n",
      "Iteration 157, loss = 0.35243574\n",
      "Iteration 158, loss = 0.37904893\n",
      "Iteration 159, loss = 0.37907840\n",
      "Iteration 160, loss = 0.40126321\n",
      "Iteration 161, loss = 0.36923625\n",
      "Iteration 162, loss = 0.36224670\n",
      "Iteration 163, loss = 0.40008551\n",
      "Iteration 164, loss = 0.36089700\n",
      "Iteration 165, loss = 0.38056547\n",
      "Iteration 166, loss = 0.36805194\n",
      "Iteration 167, loss = 0.39594308\n",
      "Iteration 168, loss = 0.39516683\n",
      "Training loss did not improve more than tol=0.000100 for 10 consecutive epochs. Stopping.\n",
      "R^2 Score :  0.9993265137078438\n",
      "Mean Absolute Error :  0.43466452198416833\n",
      "Mean Squared Error :  0.7655669124969745\n",
      "Mean Absolute Percentage Error :  0.036435315299531486\n"
     ]
    }
   ],
   "source": [
    "from sklearn.preprocessing import StandardScaler\n",
    "from sklearn.neural_network import MLPRegressor\n",
    "scaler = StandardScaler()\n",
    "scaler.fit(X_train)\n",
    "X_train = scaler.transform(X_train)\n",
    "X_test = scaler.transform(X_test)\n",
    "nn = MLPRegressor(hidden_layer_sizes=(20, 20, 20, 20), max_iter=1000, verbose=1, activation='relu')\n",
    "nn.fit(X_train, y_train)\n",
    "y_pred = nn.predict(X_test)\n",
    "print('R^2 Score : ',r2_score(y_test,y_pred))\n",
    "print('Mean Absolute Error : ', mean_absolute_error(y_test, y_pred))\n",
    "print('Mean Squared Error : ', mean_squared_error(y_test, y_pred))\n",
    "#print('Root Mean Squared Error : ', math.sqrt(mean_squared_error(y_test, y_pred)))\n",
    "print('Mean Absolute Percentage Error : ', mean_absolute_percentage_error(y_test, y_pred))"
   ]
  },
  {
   "cell_type": "code",
   "execution_count": 252,
   "metadata": {},
   "outputs": [
    {
     "name": "stdout",
     "output_type": "stream",
     "text": [
      "R^2 Score :  0.9994775815613763\n",
      "Mean Absolute Error :  0.26259775970319643\n",
      "Mean Squared Error :  0.5938447088627283\n",
      "Root Mean Squared Error :  0.7706132031458638\n",
      "Mean Absolute Percentage Error :  0.010172711288644741\n"
     ]
    }
   ],
   "source": [
    "#Random Forest Regressor\n",
    "import math\n",
    "regressor=RandomForestRegressor()\n",
    "regressor.fit(X_train,y_train)\n",
    "y_pred=regressor.predict(X_test)\n",
    "print('R^2 Score : ',r2_score(y_test,y_pred))\n",
    "print('Mean Absolute Error : ', mean_absolute_error(y_test, y_pred))\n",
    "print('Mean Squared Error : ', mean_squared_error(y_test, y_pred))\n",
    "print('Root Mean Squared Error : ', math.sqrt(mean_squared_error(y_test, y_pred)))\n",
    "print('Mean Absolute Percentage Error : ', mean_absolute_percentage_error(y_test, y_pred))\n",
    "#MAPE=0.009"
   ]
  },
  {
   "cell_type": "code",
   "execution_count": 253,
   "metadata": {},
   "outputs": [
    {
     "data": {
      "text/html": [
       "<div>\n",
       "<style scoped>\n",
       "    .dataframe tbody tr th:only-of-type {\n",
       "        vertical-align: middle;\n",
       "    }\n",
       "\n",
       "    .dataframe tbody tr th {\n",
       "        vertical-align: top;\n",
       "    }\n",
       "\n",
       "    .dataframe thead th {\n",
       "        text-align: right;\n",
       "    }\n",
       "</style>\n",
       "<table border=\"1\" class=\"dataframe\">\n",
       "  <thead>\n",
       "    <tr style=\"text-align: right;\">\n",
       "      <th></th>\n",
       "      <th>y_test</th>\n",
       "      <th>y_pred</th>\n",
       "      <th>sub</th>\n",
       "    </tr>\n",
       "  </thead>\n",
       "  <tbody>\n",
       "    <tr>\n",
       "      <th>11356</th>\n",
       "      <td>2.88</td>\n",
       "      <td>2.8872</td>\n",
       "      <td>7.200000e-03</td>\n",
       "    </tr>\n",
       "    <tr>\n",
       "      <th>26543</th>\n",
       "      <td>60.77</td>\n",
       "      <td>60.6043</td>\n",
       "      <td>1.657000e-01</td>\n",
       "    </tr>\n",
       "    <tr>\n",
       "      <th>2445</th>\n",
       "      <td>120.42</td>\n",
       "      <td>120.4960</td>\n",
       "      <td>7.600000e-02</td>\n",
       "    </tr>\n",
       "    <tr>\n",
       "      <th>14649</th>\n",
       "      <td>3.13</td>\n",
       "      <td>3.1240</td>\n",
       "      <td>6.000000e-03</td>\n",
       "    </tr>\n",
       "    <tr>\n",
       "      <th>32699</th>\n",
       "      <td>58.86</td>\n",
       "      <td>58.7107</td>\n",
       "      <td>1.493000e-01</td>\n",
       "    </tr>\n",
       "    <tr>\n",
       "      <th>...</th>\n",
       "      <td>...</td>\n",
       "      <td>...</td>\n",
       "      <td>...</td>\n",
       "    </tr>\n",
       "    <tr>\n",
       "      <th>9044</th>\n",
       "      <td>3.17</td>\n",
       "      <td>3.1712</td>\n",
       "      <td>1.200000e-03</td>\n",
       "    </tr>\n",
       "    <tr>\n",
       "      <th>15276</th>\n",
       "      <td>2.92</td>\n",
       "      <td>2.9200</td>\n",
       "      <td>2.664535e-15</td>\n",
       "    </tr>\n",
       "    <tr>\n",
       "      <th>3023</th>\n",
       "      <td>145.51</td>\n",
       "      <td>135.7353</td>\n",
       "      <td>9.774700e+00</td>\n",
       "    </tr>\n",
       "    <tr>\n",
       "      <th>32096</th>\n",
       "      <td>3.71</td>\n",
       "      <td>3.6728</td>\n",
       "      <td>3.720000e-02</td>\n",
       "    </tr>\n",
       "    <tr>\n",
       "      <th>9929</th>\n",
       "      <td>38.16</td>\n",
       "      <td>37.6105</td>\n",
       "      <td>5.495000e-01</td>\n",
       "    </tr>\n",
       "  </tbody>\n",
       "</table>\n",
       "<p>7008 rows × 3 columns</p>\n",
       "</div>"
      ],
      "text/plain": [
       "       y_test    y_pred           sub\n",
       "11356    2.88    2.8872  7.200000e-03\n",
       "26543   60.77   60.6043  1.657000e-01\n",
       "2445   120.42  120.4960  7.600000e-02\n",
       "14649    3.13    3.1240  6.000000e-03\n",
       "32699   58.86   58.7107  1.493000e-01\n",
       "...       ...       ...           ...\n",
       "9044     3.17    3.1712  1.200000e-03\n",
       "15276    2.92    2.9200  2.664535e-15\n",
       "3023   145.51  135.7353  9.774700e+00\n",
       "32096    3.71    3.6728  3.720000e-02\n",
       "9929    38.16   37.6105  5.495000e-01\n",
       "\n",
       "[7008 rows x 3 columns]"
      ]
     },
     "execution_count": 253,
     "metadata": {},
     "output_type": "execute_result"
    }
   ],
   "source": [
    "predict_df=pd.DataFrame({\"y_test\":y_test,\"y_pred\":y_pred,\"sub\":abs(y_test-y_pred)})\n",
    "predict_df"
   ]
  },
  {
   "cell_type": "code",
   "execution_count": 254,
   "metadata": {},
   "outputs": [
    {
     "data": {
      "image/png": "[encoded data removed]",
      "text/plain": [
       "<Figure size 432x288 with 1 Axes>"
      ]
     },
     "metadata": {
      "needs_background": "light"
     },
     "output_type": "display_data"
    }
   ],
   "source": [
    "plt.scatter(y_test,y_pred)\n",
    "plt.title(\"Random Forest Regressor\")\n",
    "plt.xlabel(\"y_test\")\n",
    "plt.ylabel(\"y_pred\")\n",
    "plt.show()"
   ]
  },
  {
   "cell_type": "code",
   "execution_count": 255,
   "metadata": {},
   "outputs": [
    {
     "name": "stdout",
     "output_type": "stream",
     "text": [
      "Enerji tüketimi [2.8872]  olarak tahmin edildi.\n"
     ]
    },
    {
     "name": "stderr",
     "output_type": "stream",
     "text": [
      "c:\\Users\\HP\\AppData\\Local\\Programs\\Python\\Python310\\lib\\site-packages\\sklearn\\base.py:450: UserWarning: X does not have valid feature names, but RandomForestRegressor was fitted with feature names\n",
      "  warnings.warn(\n"
     ]
    }
   ],
   "source": [
    "prediction=regressor.predict([[3.82,0.0,60.20,100.00,26100,1,6,0,4]])\n",
    "print('Enerji tüketimi',prediction,' olarak tahmin edildi.')"
   ]
  },
  {
   "cell_type": "code",
   "execution_count": 256,
   "metadata": {},
   "outputs": [],
   "source": [
    "regressor2 = LinearRegression()\n",
    "regressor2.fit(X_train, y_train)\n",
    "y_pred=regressor2.predict(X_test)"
   ]
  },
  {
   "cell_type": "code",
   "execution_count": 257,
   "metadata": {},
   "outputs": [
    {
     "name": "stdout",
     "output_type": "stream",
     "text": [
      "R^2 Score :  0.9144063154117025\n",
      "Mean Absolute Error :  6.983654981086712\n",
      "Mean Squared Error :  97.29625324623396\n",
      "Root Mean Squared Error :  9.863886315557066\n",
      "Mean Absolute Percentage Error :  0.8371409492468562\n"
     ]
    }
   ],
   "source": [
    "#Linear Regression\n",
    "print('R^2 Score : ',r2_score(y_test,y_pred))\n",
    "print('Mean Absolute Error : ', mean_absolute_error(y_test, y_pred))\n",
    "print('Mean Squared Error : ', mean_squared_error(y_test, y_pred))\n",
    "print('Root Mean Squared Error : ', math.sqrt(mean_squared_error(y_test, y_pred)))\n",
    "print('Mean Absolute Percentage Error : ', mean_absolute_percentage_error(y_test, y_pred))"
   ]
  },
  {
   "cell_type": "code",
   "execution_count": 258,
   "metadata": {},
   "outputs": [
    {
     "data": {
      "image/png": "[encoded data removed]",
      "text/plain": [
       "<Figure size 432x288 with 1 Axes>"
      ]
     },
     "metadata": {
      "needs_background": "light"
     },
     "output_type": "display_data"
    }
   ],
   "source": [
    "plt.scatter(y_test,y_pred)\n",
    "plt.title(\"Linear Regression\")\n",
    "plt.xlabel(\"y_test\")\n",
    "plt.ylabel(\"y_pred\")\n",
    "plt.show()"
   ]
  },
  {
   "cell_type": "code",
   "execution_count": 259,
   "metadata": {},
   "outputs": [
    {
     "name": "stdout",
     "output_type": "stream",
     "text": [
      "continuous\n",
      "multiclass\n",
      "multiclass\n"
     ]
    }
   ],
   "source": [
    "#label encoding for logistic regression\n",
    "from sklearn import preprocessing, utils\n",
    "lab_enc = preprocessing.LabelEncoder()\n",
    "transformed_y = lab_enc.fit_transform(y_train)\n",
    "#print(transformed_y)\n",
    "print(utils.multiclass.type_of_target(y_train))\n",
    "print(utils.multiclass.type_of_target(y_train.astype('int')))\n",
    "print(utils.multiclass.type_of_target(transformed_y))"
   ]
  },
  {
   "cell_type": "code",
   "execution_count": 287,
   "metadata": {},
   "outputs": [
    {
     "name": "stderr",
     "output_type": "stream",
     "text": [
      "c:\\Users\\HP\\AppData\\Local\\Programs\\Python\\Python310\\lib\\site-packages\\sklearn\\linear_model\\_logistic.py:444: ConvergenceWarning: lbfgs failed to converge (status=1):\n",
      "STOP: TOTAL NO. of ITERATIONS REACHED LIMIT.\n",
      "\n",
      "Increase the number of iterations (max_iter) or scale the data as shown in:\n",
      "    https://scikit-learn.org/stable/modules/preprocessing.html\n",
      "Please also refer to the documentation for alternative solver options:\n",
      "    https://scikit-learn.org/stable/modules/linear_model.html#logistic-regression\n",
      "  n_iter_i = _check_optimize_result(\n"
     ]
    },
    {
     "data": {
      "text/html": [
       "<style>#sk-container-id-2 {color: black;background-color: white;}#sk-container-id-2 pre{padding: 0;}#sk-container-id-2 div.sk-toggleable {background-color: white;}#sk-container-id-2 label.sk-toggleable__label {cursor: pointer;display: block;width: 100%;margin-bottom: 0;padding: 0.3em;box-sizing: border-box;text-align: center;}#sk-container-id-2 label.sk-toggleable__label-arrow:before {content: \"▸\";float: left;margin-right: 0.25em;color: #696969;}#sk-container-id-2 label.sk-toggleable__label-arrow:hover:before {color: black;}#sk-container-id-2 div.sk-estimator:hover label.sk-toggleable__label-arrow:before {color: black;}#sk-container-id-2 div.sk-toggleable__content {max-height: 0;max-width: 0;overflow: hidden;text-align: left;background-color: #f0f8ff;}#sk-container-id-2 div.sk-toggleable__content pre {margin: 0.2em;color: black;border-radius: 0.25em;background-color: #f0f8ff;}#sk-container-id-2 input.sk-toggleable__control:checked~div.sk-toggleable__content {max-height: 200px;max-width: 100%;overflow: auto;}#sk-container-id-2 input.sk-toggleable__control:checked~label.sk-toggleable__label-arrow:before {content: \"▾\";}#sk-container-id-2 div.sk-estimator input.sk-toggleable__control:checked~label.sk-toggleable__label {background-color: #d4ebff;}#sk-container-id-2 div.sk-label input.sk-toggleable__control:checked~label.sk-toggleable__label {background-color: #d4ebff;}#sk-container-id-2 input.sk-hidden--visually {border: 0;clip: rect(1px 1px 1px 1px);clip: rect(1px, 1px, 1px, 1px);height: 1px;margin: -1px;overflow: hidden;padding: 0;position: absolute;width: 1px;}#sk-container-id-2 div.sk-estimator {font-family: monospace;background-color: #f0f8ff;border: 1px dotted black;border-radius: 0.25em;box-sizing: border-box;margin-bottom: 0.5em;}#sk-container-id-2 div.sk-estimator:hover {background-color: #d4ebff;}#sk-container-id-2 div.sk-parallel-item::after {content: \"\";width: 100%;border-bottom: 1px solid gray;flex-grow: 1;}#sk-container-id-2 div.sk-label:hover label.sk-toggleable__label {background-color: #d4ebff;}#sk-container-id-2 div.sk-serial::before {content: \"\";position: absolute;border-left: 1px solid gray;box-sizing: border-box;top: 0;bottom: 0;left: 50%;z-index: 0;}#sk-container-id-2 div.sk-serial {display: flex;flex-direction: column;align-items: center;background-color: white;padding-right: 0.2em;padding-left: 0.2em;position: relative;}#sk-container-id-2 div.sk-item {position: relative;z-index: 1;}#sk-container-id-2 div.sk-parallel {display: flex;align-items: stretch;justify-content: center;background-color: white;position: relative;}#sk-container-id-2 div.sk-item::before, #sk-container-id-2 div.sk-parallel-item::before {content: \"\";position: absolute;border-left: 1px solid gray;box-sizing: border-box;top: 0;bottom: 0;left: 50%;z-index: -1;}#sk-container-id-2 div.sk-parallel-item {display: flex;flex-direction: column;z-index: 1;position: relative;background-color: white;}#sk-container-id-2 div.sk-parallel-item:first-child::after {align-self: flex-end;width: 50%;}#sk-container-id-2 div.sk-parallel-item:last-child::after {align-self: flex-start;width: 50%;}#sk-container-id-2 div.sk-parallel-item:only-child::after {width: 0;}#sk-container-id-2 div.sk-dashed-wrapped {border: 1px dashed gray;margin: 0 0.4em 0.5em 0.4em;box-sizing: border-box;padding-bottom: 0.4em;background-color: white;}#sk-container-id-2 div.sk-label label {font-family: monospace;font-weight: bold;display: inline-block;line-height: 1.2em;}#sk-container-id-2 div.sk-label-container {text-align: center;}#sk-container-id-2 div.sk-container {/* jupyter's `normalize.less` sets `[hidden] { display: none; }` but bootstrap.min.css set `[hidden] { display: none !important; }` so we also need the `!important` here to be able to override the default hidden behavior on the sphinx rendered scikit-learn.org. See: https://github.com/scikit-learn/scikit-learn/issues/21755 */display: inline-block !important;position: relative;}#sk-container-id-2 div.sk-text-repr-fallback {display: none;}</style><div id=\"sk-container-id-2\" class=\"sk-top-container\"><div class=\"sk-text-repr-fallback\"><pre>LogisticRegression()</pre><b>In a Jupyter environment, please rerun this cell to show the HTML representation or trust the notebook. <br />On GitHub, the HTML representation is unable to render, please try loading this page with nbviewer.org.</b></div><div class=\"sk-container\" hidden><div class=\"sk-item\"><div class=\"sk-estimator sk-toggleable\"><input class=\"sk-toggleable__control sk-hidden--visually\" id=\"sk-estimator-id-2\" type=\"checkbox\" checked><label for=\"sk-estimator-id-2\" class=\"sk-toggleable__label sk-toggleable__label-arrow\">LogisticRegression</label><div class=\"sk-toggleable__content\"><pre>LogisticRegression()</pre></div></div></div></div></div>"
      ],
      "text/plain": [
       "LogisticRegression()"
      ]
     },
     "execution_count": 287,
     "metadata": {},
     "output_type": "execute_result"
    }
   ],
   "source": [
    "regressor3 = LogisticRegression()\n",
    "regressor3.fit(X_train, transformed_y)"
   ]
  },
  {
   "cell_type": "code",
   "execution_count": 288,
   "metadata": {},
   "outputs": [
    {
     "name": "stdout",
     "output_type": "stream",
     "text": [
      "R^2 Score :  -0.08425651762944497\n",
      "Mean Absolute Error :  26.829307933789956\n",
      "Mean Squared Error :  1232.4986034960048\n",
      "Root Mean Squared Error :  35.1069594738138\n",
      "Mean Absolute Percentage Error :  2.75103499446852\n"
     ]
    }
   ],
   "source": [
    "#Logistic Regression\n",
    "y_pred=regressor3.predict(X_test)\n",
    "print('R^2 Score : ',r2_score(y_test,y_pred))\n",
    "print('Mean Absolute Error : ', mean_absolute_error(y_test, y_pred))\n",
    "print('Mean Squared Error : ', mean_squared_error(y_test, y_pred))\n",
    "print('Root Mean Squared Error : ', math.sqrt(mean_squared_error(y_test, y_pred)))\n",
    "print('Mean Absolute Percentage Error : ',mean_absolute_percentage_error(y_test,y_pred))\n",
    "#R^2 hatasının negatif olması, modelin (logistic regression) hedef değerlerin ortalamasından daha kötü tahmin yaptığını gösteriyor."
   ]
  },
  {
   "cell_type": "code",
   "execution_count": 262,
   "metadata": {},
   "outputs": [
    {
     "data": {
      "image/png": "[encoded data removed]",
      "text/plain": [
       "<Figure size 432x288 with 1 Axes>"
      ]
     },
     "metadata": {
      "needs_background": "light"
     },
     "output_type": "display_data"
    }
   ],
   "source": [
    "plt.scatter(y_test,y_pred)\n",
    "plt.title(\"Logistic Regression\")\n",
    "plt.xlabel(\"y_test\")\n",
    "plt.ylabel(\"y_pred\")\n",
    "plt.show()"
   ]
  },
  {
   "cell_type": "code",
   "execution_count": 263,
   "metadata": {},
   "outputs": [
    {
     "name": "stdout",
     "output_type": "stream",
     "text": [
      "R^2 Score :  0.9144063154060139\n",
      "Mean Absolute Error :  6.98365498043591\n",
      "Mean Squared Error :  97.29625325270028\n",
      "Root Mean Squared Error :  9.863886315884844\n",
      "Mean Absolute Percentage Error :  0.8371409493695353\n"
     ]
    }
   ],
   "source": [
    "#Ridge Regression\n",
    "from sklearn.linear_model import Ridge,Lasso\n",
    "r=Ridge(alpha=0.0001)\n",
    "r.fit(X_train,y_train)\n",
    "y_pred=r.predict(X_test)\n",
    "print('R^2 Score : ',r2_score(y_test,y_pred))\n",
    "print('Mean Absolute Error : ', mean_absolute_error(y_test, y_pred))\n",
    "print('Mean Squared Error : ', mean_squared_error(y_test, y_pred))\n",
    "print('Root Mean Squared Error : ', math.sqrt(mean_squared_error(y_test, y_pred)))\n",
    "print('Mean Absolute Percentage Error : ',mean_absolute_percentage_error(y_test,y_pred))\n",
    "#Ridge Regresyon Modeli alpha=0.0001 iken Lineer Regresyon Modeli ile aynı sonuçları vermiştir."
   ]
  },
  {
   "cell_type": "code",
   "execution_count": 264,
   "metadata": {},
   "outputs": [
    {
     "data": {
      "image/png": "[encoded data removed]",
      "text/plain": [
       "<Figure size 432x288 with 1 Axes>"
      ]
     },
     "metadata": {
      "needs_background": "light"
     },
     "output_type": "display_data"
    }
   ],
   "source": [
    "plt.scatter(y_test,y_pred)\n",
    "plt.title(\"Ridge Regression\")\n",
    "plt.xlabel(\"y_test\")\n",
    "plt.ylabel(\"y_pred\")\n",
    "plt.show()"
   ]
  },
  {
   "cell_type": "code",
   "execution_count": 265,
   "metadata": {},
   "outputs": [
    {
     "name": "stdout",
     "output_type": "stream",
     "text": [
      "R^2 Score :  0.9145536707928865\n",
      "Mean Absolute Error :  7.032546905627398\n",
      "Mean Squared Error :  97.1287510928468\n",
      "Root Mean Squared Error :  9.855391980679753\n",
      "Mean Absolute Percentage Error :  0.8609572694975473\n"
     ]
    }
   ],
   "source": [
    "#Lasso Regression\n",
    "r2=Lasso(alpha=0.0001)\n",
    "r2.fit(X_test,y_test)\n",
    "y_pred=r2.predict(X_test)\n",
    "print('R^2 Score : ',r2_score(y_test,y_pred))\n",
    "print('Mean Absolute Error : ', mean_absolute_error(y_test, y_pred))\n",
    "print('Mean Squared Error : ', mean_squared_error(y_test, y_pred))\n",
    "print('Root Mean Squared Error : ', math.sqrt(mean_squared_error(y_test, y_pred)))\n",
    "print('Mean Absolute Percentage Error : ',mean_absolute_percentage_error(y_test,y_pred))"
   ]
  },
  {
   "cell_type": "code",
   "execution_count": 266,
   "metadata": {},
   "outputs": [
    {
     "data": {
      "image/png": "[encoded data removed]",
      "text/plain": [
       "<Figure size 432x288 with 1 Axes>"
      ]
     },
     "metadata": {
      "needs_background": "light"
     },
     "output_type": "display_data"
    }
   ],
   "source": [
    "plt.scatter(y_test,y_pred)\n",
    "plt.title(\"Lasso Regression\")\n",
    "plt.xlabel(\"y_test\")\n",
    "plt.ylabel(\"y_pred\")\n",
    "plt.show()"
   ]
  },
  {
   "cell_type": "markdown",
   "metadata": {},
   "source": [
    "Lasso ve Ridge Lineer Regresyon Modellerinde (alpha=0.0001); r^2'de 0.001 farkla MAPE'de 0.03 farkla Lasso Regresyon Modeli, Ridge Regresyon modeline göre daha iyi sonuç vermiştir."
   ]
  },
  {
   "cell_type": "code",
   "execution_count": 267,
   "metadata": {},
   "outputs": [
    {
     "name": "stdout",
     "output_type": "stream",
     "text": [
      "R^2 Score :  0.9803616198753422\n",
      "Mean Absolute Error :  2.102224124809741\n",
      "Mean Squared Error :  22.323385365930996\n",
      "Root Mean Squared Error :  4.724762995741797\n",
      "Mean Absolute Percentage Error :  0.0797372612575788\n"
     ]
    }
   ],
   "source": [
    "#KNN REGRESSOR\n",
    "from sklearn.neighbors import KNeighborsRegressor\n",
    "r3=KNeighborsRegressor(n_neighbors=3)\n",
    "r3.fit(X_train,y_train)\n",
    "y_pred=r3.predict(X_test)\n",
    "print('R^2 Score : ',r2_score(y_test,y_pred))\n",
    "print('Mean Absolute Error : ', mean_absolute_error(y_test, y_pred))\n",
    "print('Mean Squared Error : ', mean_squared_error(y_test, y_pred))\n",
    "print('Root Mean Squared Error : ', math.sqrt(mean_squared_error(y_test, y_pred)))\n",
    "print('Mean Absolute Percentage Error : ',mean_absolute_percentage_error(y_test,y_pred))\n",
    "#KNN modeli için; n_neighbors=3 iken r^2 değeri 0.98 ile, MAPE 0.079 ile en iyi sonuçları vermiştir."
   ]
  },
  {
   "cell_type": "code",
   "execution_count": 268,
   "metadata": {},
   "outputs": [
    {
     "data": {
      "image/png": "[encoded data removed]",
      "text/plain": [
       "<Figure size 432x288 with 1 Axes>"
      ]
     },
     "metadata": {
      "needs_background": "light"
     },
     "output_type": "display_data"
    }
   ],
   "source": [
    "plt.scatter(y_test,y_pred)\n",
    "\n",
    "plt.title(\"KNN Regressor\")\n",
    "plt.xlabel(\"y_test\")\n",
    "plt.ylabel(\"y_pred\")\n",
    "plt.show()"
   ]
  },
  {
   "cell_type": "code",
   "execution_count": 286,
   "metadata": {},
   "outputs": [
    {
     "name": "stdout",
     "output_type": "stream",
     "text": [
      "R^2 Score :  0.8345362316190617\n",
      "Mean Absolute Error :  9.25960295924024\n",
      "Mean Squared Error :  188.08636161538786\n",
      "Root Mean Squared Error :  13.714458123286821\n",
      "Mean Absolute Percentage Error :  0.8395315971156778\n"
     ]
    },
    {
     "name": "stderr",
     "output_type": "stream",
     "text": [
      "c:\\Users\\HP\\AppData\\Local\\Programs\\Python\\Python310\\lib\\site-packages\\sklearn\\svm\\_base.py:1225: ConvergenceWarning: Liblinear failed to converge, increase the number of iterations.\n",
      "  warnings.warn(\n"
     ]
    }
   ],
   "source": [
    "#Linear Support Vector Regressor\n",
    "from sklearn.svm import LinearSVR\n",
    "model=LinearSVR()\n",
    "model.fit(X_train,y_train)\n",
    "y_pred=model.predict(X_test)\n",
    "print('R^2 Score : ',r2_score(y_test,y_pred))\n",
    "print('Mean Absolute Error : ', mean_absolute_error(y_test, y_pred))\n",
    "print('Mean Squared Error : ', mean_squared_error(y_test, y_pred))\n",
    "print('Root Mean Squared Error : ', math.sqrt(mean_squared_error(y_test, y_pred)))\n",
    "print('Mean Absolute Percentage Error : ',mean_absolute_percentage_error(y_test,y_pred))"
   ]
  },
  {
   "cell_type": "code",
   "execution_count": 270,
   "metadata": {},
   "outputs": [
    {
     "data": {
      "image/png": "[encoded data removed]",
      "text/plain": [
       "<Figure size 432x288 with 1 Axes>"
      ]
     },
     "metadata": {
      "needs_background": "light"
     },
     "output_type": "display_data"
    }
   ],
   "source": [
    "plt.scatter(y_test,y_pred)\n",
    "plt.title(\"Linear SVR\")\n",
    "plt.xlabel(\"y_test\")\n",
    "plt.ylabel(\"y_pred\")\n",
    "plt.show()"
   ]
  },
  {
   "cell_type": "code",
   "execution_count": 271,
   "metadata": {},
   "outputs": [
    {
     "name": "stdout",
     "output_type": "stream",
     "text": [
      "[22:10:26] WARNING: C:/Users/Administrator/workspace/xgboost-win64_release_1.6.0/src/objective/regression_obj.cu:203: reg:linear is now deprecated in favor of reg:squarederror.\n",
      "R^2 Score :  0.999235038350186\n",
      "Mean Absolute Error :  0.47926973081070534\n",
      "Mean Squared Error :  0.8695489949048182\n",
      "Root Mean Squared Error :  0.9324961098604209\n",
      "Mean Absolute Percentage Error :  0.025995443083522616\n"
     ]
    }
   ],
   "source": [
    "import xgboost as xgb\n",
    "from xgboost import plot_tree\n",
    "xgb_r = xgb.XGBRegressor(objective ='reg:linear',n_estimators = 100, seed = None)\n",
    " \n",
    "xgb_r.fit(X_train, y_train)\n",
    "y_pred =xgb_r.predict(X_test)\n",
    "\n",
    "print('R^2 Score : ',r2_score(y_test,y_pred))\n",
    "print('Mean Absolute Error : ', mean_absolute_error(y_test, y_pred))\n",
    "print('Mean Squared Error : ', mean_squared_error(y_test, y_pred))\n",
    "print('Root Mean Squared Error : ', math.sqrt(mean_squared_error(y_test, y_pred)))\n",
    "print('Mean Absolute Percentage Error : ',mean_absolute_percentage_error(y_test,y_pred))\n",
    "#R^2=0.999 ve MAPE=0.025"
   ]
  },
  {
   "cell_type": "code",
   "execution_count": 272,
   "metadata": {},
   "outputs": [
    {
     "data": {
      "image/png": "[encoded data removed]",
      "text/plain": [
       "<Figure size 432x288 with 1 Axes>"
      ]
     },
     "metadata": {
      "needs_background": "light"
     },
     "output_type": "display_data"
    }
   ],
   "source": [
    "plt.scatter(y_test,y_pred)\n",
    "plt.title(\"XGBoost Regressor\")\n",
    "plt.xlabel(\"y_test\")\n",
    "plt.ylabel(\"y_pred\")\n",
    "plt.show()"
   ]
  },
  {
   "cell_type": "markdown",
   "metadata": {},
   "source": [
    "Veri seti için uygulamış olduğum modeller arasında değerlendirme metrikleri sonucunda r^2=0.999, MAPE=0.01 ile Random Forest Regressor en iyi sonucu vermiştir. İkinci en iyi sonuç veren algoritma r^2 değerleri aynı olmakla birlikte MAPE değeri 0.15 daha yüksek olan XGBoost Regressor'dur."
   ]
  },
  {
   "cell_type": "code",
   "execution_count": 273,
   "metadata": {},
   "outputs": [],
   "source": [
    "#from sklearn.svm import SVR\n",
    "#svr_rbf = SVR(kernel='rbf',C=1e3, gamma=0.1)\n",
    "#svr_rbf.fit(X_train, y_train)\n",
    "#y_rbf =svr_rbf.predict(X_test)"
   ]
  },
  {
   "cell_type": "code",
   "execution_count": 274,
   "metadata": {},
   "outputs": [],
   "source": [
    "#svr_poly = SVR(kernel='poly', C=1e3, degree=2)\n",
    "#svr_poly.fit(X_train, y_train)\n",
    "#y_poly = svr_poly.predict(X_test)"
   ]
  },
  {
   "cell_type": "code",
   "execution_count": 275,
   "metadata": {},
   "outputs": [],
   "source": [
    "#print('R^2 Score : ',r2_score(y_test,y_rbf))\n",
    "#print('R^2 Score : ',r2_score(y_test,y_lin))\n",
    "#print('R^2 Score : ',r2_score(y_test,y_poly))"
   ]
  },
  {
   "cell_type": "code",
   "execution_count": 276,
   "metadata": {},
   "outputs": [],
   "source": [
    "#plt.scatter(X_train, y_train, color='darkorange', label='data')\n",
    "#plt.hold('on')\n",
    "#plt.plot(X_train, y_rbf, color='navy', lw=2, label='RBF model')\n",
    "#plt.plot(X_train, y_lin, color='c', lw=2, label='Linear model')\n",
    "#plt.plot(X_train, y_poly, color='cornflowerblue', lw=2, label='Polynomial model')\n",
    "#plt.xlabel('Data')\n",
    "#plt.ylabel('Target')\n",
    "#plt.title('Support Vector Regression')\n",
    "#plt.legend()\n",
    "#plt.show()"
   ]
  }
 ],
 "metadata": {
  "kernelspec": {
   "display_name": "Python 3.10.4 64-bit",
   "language": "python",
   "name": "python3"
  },
  "language_info": {
   "codemirror_mode": {
    "name": "ipython",
    "version": 3
   },
   "file_extension": ".py",
   "mimetype": "text/x-python",
   "name": "python",
   "nbconvert_exporter": "python",
   "pygments_lexer": "ipython3",
   "version": "3.10.4 (tags/v3.10.4:9d38120, Mar 23 2022, 23:13:41) [MSC v.1929 64 bit (AMD64)]"
  },
  "orig_nbformat": 4,
  "vscode": {
   "interpreter": {
    "hash": "a9cff5a362bc38ef45d817ae74b1af54d6a076e3d773891282bce078b815ba34"
   }
  }
 },
 "nbformat": 4,
 "nbformat_minor": 2
}
